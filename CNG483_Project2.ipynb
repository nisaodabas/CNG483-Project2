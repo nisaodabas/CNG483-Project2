{
  "nbformat": 4,
  "nbformat_minor": 0,
  "metadata": {
    "colab": {
      "name": "CNG483-Project2.ipynb",
      "provenance": [],
      "collapsed_sections": [],
      "authorship_tag": "ABX9TyMZGaepV4D3cNRzr0G6RCjf",
      "include_colab_link": true
    },
    "kernelspec": {
      "name": "python3",
      "display_name": "Python 3"
    }
  },
  "cells": [
    {
      "cell_type": "markdown",
      "metadata": {
        "id": "view-in-github",
        "colab_type": "text"
      },
      "source": [
        "<a href=\"https://colab.research.google.com/github/nisaodabas/CNG483-Project2/blob/master/CNG483_Project2.ipynb\" target=\"_parent\"><img src=\"https://colab.research.google.com/assets/colab-badge.svg\" alt=\"Open In Colab\"/></a>"
      ]
    },
    {
      "cell_type": "code",
      "metadata": {
        "id": "WzPhI0ARvc2S",
        "colab_type": "code",
        "outputId": "115574a8-52ef-4e0d-bbad-efcd5ed3d6c6",
        "colab": {
          "base_uri": "https://localhost:8080/"
        }
      },
      "source": [
        "import os\n",
        "import numpy as np\n",
        "import pandas as pd\n",
        "from tensorflow.keras import Sequential\n",
        "from tensorflow.keras.layers import Dense, Dropout\n",
        "from tensorflow.keras.optimizers import RMSprop\n",
        "from keras.wrappers.scikit_learn import KerasClassifier\n",
        "from sklearn.model_selection import cross_val_score\n",
        "from sklearn.model_selection import KFold\n",
        "from sklearn.model_selection import train_test_split\n",
        "from keras.callbacks import EarlyStopping, ModelCheckpoint\n",
        "from tensorflow.keras.callbacks import EarlyStopping, ModelCheckpoint\n",
        "from keras.layers.normalization import BatchNormalization\n",
        "from keras.models import load_model  \n",
        "from keras.utils import np_utils\n",
        "import matplotlib.pyplot as plt\n",
        "from sklearn.preprocessing import LabelEncoder\n",
        "from google.colab import output\n",
        "from google.colab import drive\n",
        "\n",
        "drive.mount('/content/drive')"
      ],
      "execution_count": 0,
      "outputs": [
        {
          "output_type": "stream",
          "text": [
            "Using TensorFlow backend.\n"
          ],
          "name": "stderr"
        }
      ]
    },
    {
      "cell_type": "code",
      "metadata": {
        "id": "DuVsk-f_o2fU",
        "colab_type": "code",
        "colab": {}
      },
      "source": [
        "def createDataSet(path):\n",
        "    df = pd.read_csv(path, sep='\\n')\n",
        "    data = np.array(df)\n",
        "\n",
        "    #print(data)\n",
        "    numAttr = 0\n",
        "    rows = []\n",
        "    for row in data:        \n",
        "        found = row[0].find(\"@ATTRIBUTE\")\n",
        "        if(found != -1):\n",
        "            numAttr += 1\n",
        "        else:\n",
        "            # ignore @ATTRIBUTE rows\n",
        "            rows.append(row[0].split(\",\"))\n",
        "\n",
        "    # delete @DATA row\n",
        "    rows = np.array(rows[1:])\n",
        "    \n",
        "    if(numAttr == 6):\n",
        "        features = rows[:, :numAttr-1].astype('flaot32')\n",
        "    else:\n",
        "        features = rows[:, :numAttr-1].astype('int')\n",
        "            \n",
        "    labels = rows[:, -1].astype('int')\n",
        "    \n",
        "    labels = np.array([x - 1 for x in labels])\n",
        "    '''\n",
        "    # encode class values as integers\n",
        "    encoder = LabelEncoder()\n",
        "    encoder.fit(labels)\n",
        "    encoded_Y = encoder.transform(labels)\n",
        "    # convert integers to dummy variables (i.e. one hot encoded)\n",
        "    labels = np_utils.to_categorical(encoded_Y)\n",
        "    print(labels)\n",
        "    '''\n",
        "    return features, labels"
      ],
      "execution_count": 0,
      "outputs": []
    },
    {
      "cell_type": "code",
      "metadata": {
        "id": "qvKkK7eufEZL",
        "colab_type": "code",
        "colab": {}
      },
      "source": [
        "def model(X, y, dim):\n",
        "\n",
        "    # define model\n",
        "    X_train, X_val, y_train, y_val = train_test_split(X, y, test_size=0.2, shuffle=True, stratify=y, random_state=1)\n",
        "\n",
        "    model = Sequential()\n",
        "    model.add(Dense(9, activation='relu', kernel_initializer='he_normal', input_dim=dim))\n",
        "    model.add(Dense(6, activation='relu', kernel_initializer='he_normal'))\n",
        "    model.add(Dropout(0.4))\n",
        "    model.add(Dense(6, activation='relu', kernel_initializer='he_normal'))\n",
        "    model.add(Dropout(0.4))\n",
        "    model.add(Dense(6, activation='relu', kernel_initializer='he_normal'))\n",
        "    model.add(Dropout(0.4))\n",
        "    model.add(Dense(6, activation='relu', kernel_initializer='he_normal'))\n",
        "    model.add(Dropout(0.4))\n",
        "    model.add(Dense(3, activation='softmax'))\n",
        "    # compile the model\n",
        "    opt = RMSprop(learning_rate=0.00001)\n",
        "    #model.compile(optimizer=opt, loss='binary_crossentropy')\n",
        "    model.compile(optimizer=opt, loss='sparse_categorical_crossentropy', metrics=['acc'])\n",
        "    '''\n",
        "        # simple early stopping\n",
        "    es = EarlyStopping(monitor='val_loss', mode='min', verbose=1, patience=200)\n",
        "    mc = ModelCheckpoint('best_model.h5', monitor='val_accuracy', mode='max', verbose=1, save_best_only=True)\n",
        "    \n",
        "\n",
        "    # fit model\n",
        "    history = model.fit(X_train, y_train, validation_data=(X_val, y_val), epochs=4000, verbose=0, callbacks=[es, mc])\n",
        "\n",
        "    # list all data in history\n",
        "    print(history.history.keys())\n",
        "\n",
        "    # load the saved model\n",
        "    saved_model = load_model('best_model.h5')\n",
        "    # evaluate the model\n",
        "    _, train_acc = saved_model.evaluate(X_train, y_train, verbose=0)\n",
        "    _, test_acc = saved_model.evaluate(X_val, y_val, verbose=0)\n",
        "    print('Train: %.3f, Test: %.3f' % (train_acc, test_acc))\n",
        "\n",
        "    '''\n",
        "    numEpochs = 1000\n",
        "    history = model.fit(X_train, y_train, epochs=numEpochs, batch_size=256, validation_data=(X_val, y_val))\n",
        "    print(history.history.keys())\n",
        "    loss_train = history.history['loss']\n",
        "    loss_val = history.history['val_loss']\n",
        "    epochs = range(1,numEpochs+1)\n",
        "    plt.plot(epochs, loss_train, 'g', label='Training loss')\n",
        "    plt.plot(epochs, loss_val, 'b', label='validation loss')\n",
        "    plt.title('Training and Validation loss')\n",
        "    plt.xlabel('Epochs')\n",
        "    plt.ylabel('Loss')\n",
        "    plt.legend()\n",
        "    plt.show()\n",
        "\n",
        "    acc_train = history.history['acc']\n",
        "    acc_val = history.history['val_acc']\n",
        "    epochs = range(1,numEpochs+1)\n",
        "    plt.plot(epochs, acc_train, 'g', label='Training accuracy')\n",
        "    plt.plot(epochs, acc_val, 'b', label='validation accuracy')\n",
        "    plt.title('Training and Validation accuracy')\n",
        "    plt.xlabel('Epochs')\n",
        "    plt.ylabel('Accuracy')\n",
        "    plt.legend()\n",
        "    plt.show()\n",
        "    \n",
        "    #return model"
      ],
      "execution_count": 0,
      "outputs": []
    },
    {
      "cell_type": "code",
      "metadata": {
        "id": "gYvDVzZ85X9x",
        "colab_type": "code",
        "colab": {}
      },
      "source": [
        "if __name__ == \"__main__\":\n",
        "    geometic_test_path = \"/content/drive/My Drive/CNG483-Project 2/IrisGeometicFeatures_TestingSet.txt\"\n",
        "    geometic_train_path = \"/content/drive/My Drive/CNG483-Project 2/IrisGeometicFeatures_TrainingSet.txt\"\n",
        "\n",
        "    texture_test_path = \"/content/drive/My Drive/CNG483-Project 2/IrisTextureFeatures_TestingSet.txt\"\n",
        "    texture_train_path = \"/content/drive/My Drive/CNG483-Project 2/IrisTextureFeatures_TrainingSet.txt\"\n",
        "\n",
        "\n",
        "    geo_x_train, geo_y_train = createDataSet(geometic_train_path)\n",
        "    geo_x_test, geo_y_test = createDataSet(geometic_test_path)\n",
        "\n",
        "    txtr_x_train, txtr_y_train = createDataSet(texture_train_path)\n",
        "    txtr_x_test, txtr_y_test = createDataSet(texture_test_path)\n"
      ],
      "execution_count": 0,
      "outputs": []
    },
    {
      "cell_type": "code",
      "metadata": {
        "id": "Hbd6UrHdHPa8",
        "colab_type": "code",
        "colab": {}
      },
      "source": [
        "    model(txtr_x_train, txtr_y_train, 9600)\n",
        "    model(txtr_x_train, txtr_y_train, 9600)\n",
        "    '''\n",
        "    estimator = KerasClassifier(build_fn=model, epochs=2000, batch_size=128, verbose=0)\n",
        "    kfold = KFold(n_splits=5, shuffle=True, random_state=0)\n",
        "    results = cross_val_score(estimator, txtr_x_train, txtr_y_train, cv=kfold, scoring='accuracy')\n",
        "\n",
        "    print(\"Baseline: %.2f%% (%.2f%%)\" % (results.mean()*100, results.std()*100))\n",
        "    '''\n",
        "    '''\n",
        "    # list all data in history\n",
        "    print(history.history.keys())\n",
        "    # summarize history for accuracy\n",
        "    plt.plot(history.history['accuracy'])\n",
        "    plt.plot(history.history['val_accuracy'])\n",
        "    plt.title('model accuracy')\n",
        "    plt.ylabel('accuracy')\n",
        "    plt.xlabel('epoch')\n",
        "    plt.legend(['train', 'test'], loc='upper left')\n",
        "    plt.show()\n",
        "    # summarize history for loss\n",
        "    plt.plot(history.history['loss'])\n",
        "    plt.plot(history.history['val_loss'])\n",
        "    plt.title('model loss')\n",
        "    plt.ylabel('loss')\n",
        "    plt.xlabel('epoch')\n",
        "    plt.legend(['train', 'test'], loc='upper left')\n",
        "    plt.show()\n",
        "    '''"
      ],
      "execution_count": 0,
      "outputs": []
    },
    {
      "cell_type": "code",
      "metadata": {
        "id": "kDGpoZ7V5PeC",
        "colab_type": "code",
        "colab": {}
      },
      "source": [
        "output.eval_js('new Audio(\"https://upload.wikimedia.org/wikipedia/commons/0/05/Beep-09.ogg\").play()')"
      ],
      "execution_count": 0,
      "outputs": []
    }
  ]
}