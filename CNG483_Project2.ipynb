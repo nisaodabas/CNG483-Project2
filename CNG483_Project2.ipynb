{
  "nbformat": 4,
  "nbformat_minor": 0,
  "metadata": {
    "colab": {
      "name": "CNG483-Project2.ipynb",
      "provenance": [],
      "authorship_tag": "ABX9TyOnwQdh3sbINC7vYHcjIt74",
      "include_colab_link": true
    },
    "kernelspec": {
      "name": "python3",
      "display_name": "Python 3"
    }
  },
  "cells": [
    {
      "cell_type": "markdown",
      "metadata": {
        "id": "view-in-github",
        "colab_type": "text"
      },
      "source": [
        "<a href=\"https://colab.research.google.com/github/nisaodabas/CNG483-Project2/blob/master/CNG483_Project2.ipynb\" target=\"_parent\"><img src=\"https://colab.research.google.com/assets/colab-badge.svg\" alt=\"Open In Colab\"/></a>"
      ]
    },
    {
      "cell_type": "code",
      "metadata": {
        "id": "WzPhI0ARvc2S",
        "colab_type": "code",
        "colab": {
          "base_uri": "https://localhost:8080/",
          "height": 34
        },
        "outputId": "793af8b0-c0ec-44c1-aa96-9a666a5581fa"
      },
      "source": [
        "import os\n",
        "import numpy as np\n",
        "import pandas as pd\n",
        "from google.colab import output\n",
        "from google.colab import drive\n",
        "\n",
        "drive.mount('/content/drive')"
      ],
      "execution_count": 3,
      "outputs": [
        {
          "output_type": "stream",
          "text": [
            "Drive already mounted at /content/drive; to attempt to forcibly remount, call drive.mount(\"/content/drive\", force_remount=True).\n"
          ],
          "name": "stdout"
        }
      ]
    },
    {
      "cell_type": "code",
      "metadata": {
        "id": "gYvDVzZ85X9x",
        "colab_type": "code",
        "colab": {}
      },
      "source": [
        "if __name__ == \"__main__\":\n",
        "    geometic_test_path = \"/content/drive/My Drive/CNG483-Project 2/IrisGeometicFeatures_TestingSet.txt\"\n",
        "    geometic_train_path = \"/content/drive/My Drive/CNG483-Project 2/IrisGeometicFeatures_TrainingSet.txt\"\n",
        "\n",
        "    texture_test_path = \"/content/drive/My Drive/CNG483-Project 2/IrisTextureFeatures_TestingSet.txt\"\n",
        "    texture_train_path = \"/content/drive/My Drive/CNG483-Project 2/IrisTextureFeatures_TrainingSet.txt\"\n",
        "\n",
        "    data = pd.read_csv(geometic_train_path, sep=\" \", header=None)\n",
        "    data.columns = [\"a\", \"b\"]  \n",
        "\n",
        "    #data = np.array(data)\n",
        "\n"
      ],
      "execution_count": 0,
      "outputs": []
    },
    {
      "cell_type": "code",
      "metadata": {
        "id": "nYsZ8H_d9wCV",
        "colab_type": "code",
        "colab": {
          "base_uri": "https://localhost:8080/",
          "height": 402
        },
        "outputId": "19af756a-eff3-4bed-d2bc-20f38390c85e"
      },
      "source": [
        "data"
      ],
      "execution_count": 15,
      "outputs": [
        {
          "output_type": "execute_result",
          "data": {
            "text/html": [
              "<div>\n",
              "<style scoped>\n",
              "    .dataframe tbody tr th:only-of-type {\n",
              "        vertical-align: middle;\n",
              "    }\n",
              "\n",
              "    .dataframe tbody tr th {\n",
              "        vertical-align: top;\n",
              "    }\n",
              "\n",
              "    .dataframe thead th {\n",
              "        text-align: right;\n",
              "    }\n",
              "</style>\n",
              "<table border=\"1\" class=\"dataframe\">\n",
              "  <thead>\n",
              "    <tr style=\"text-align: right;\">\n",
              "      <th></th>\n",
              "      <th>a</th>\n",
              "      <th>b</th>\n",
              "    </tr>\n",
              "  </thead>\n",
              "  <tbody>\n",
              "    <tr>\n",
              "      <th>0</th>\n",
              "      <td>@RELATION</td>\n",
              "      <td>IrisGeometicFeatures_TrainingSet</td>\n",
              "    </tr>\n",
              "    <tr>\n",
              "      <th>1</th>\n",
              "      <td>@ATTRIBUTE</td>\n",
              "      <td>1\\tREAL</td>\n",
              "    </tr>\n",
              "    <tr>\n",
              "      <th>2</th>\n",
              "      <td>@ATTRIBUTE</td>\n",
              "      <td>2\\tREAL</td>\n",
              "    </tr>\n",
              "    <tr>\n",
              "      <th>3</th>\n",
              "      <td>@ATTRIBUTE</td>\n",
              "      <td>3\\tREAL</td>\n",
              "    </tr>\n",
              "    <tr>\n",
              "      <th>4</th>\n",
              "      <td>@ATTRIBUTE</td>\n",
              "      <td>4\\tREAL</td>\n",
              "    </tr>\n",
              "    <tr>\n",
              "      <th>...</th>\n",
              "      <td>...</td>\n",
              "      <td>...</td>\n",
              "    </tr>\n",
              "    <tr>\n",
              "      <th>1147</th>\n",
              "      <td>2,7,5,40114.9966,3.4242,3</td>\n",
              "      <td>NaN</td>\n",
              "    </tr>\n",
              "    <tr>\n",
              "      <th>1148</th>\n",
              "      <td>2,3,1,36643.5367,3.2727,3</td>\n",
              "      <td>NaN</td>\n",
              "    </tr>\n",
              "    <tr>\n",
              "      <th>1149</th>\n",
              "      <td>2,3,1,35968.0943,3.2424,3</td>\n",
              "      <td>NaN</td>\n",
              "    </tr>\n",
              "    <tr>\n",
              "      <th>1150</th>\n",
              "      <td>3,2,1,36643.5367,3.375,3</td>\n",
              "      <td>NaN</td>\n",
              "    </tr>\n",
              "    <tr>\n",
              "      <th>1151</th>\n",
              "      <td>3,3,0,38013.2711,3.4375,3</td>\n",
              "      <td>NaN</td>\n",
              "    </tr>\n",
              "  </tbody>\n",
              "</table>\n",
              "<p>1152 rows × 2 columns</p>\n",
              "</div>"
            ],
            "text/plain": [
              "                              a                                 b\n",
              "0                     @RELATION  IrisGeometicFeatures_TrainingSet\n",
              "1                    @ATTRIBUTE                           1\\tREAL\n",
              "2                    @ATTRIBUTE                           2\\tREAL\n",
              "3                    @ATTRIBUTE                           3\\tREAL\n",
              "4                    @ATTRIBUTE                           4\\tREAL\n",
              "...                         ...                               ...\n",
              "1147  2,7,5,40114.9966,3.4242,3                               NaN\n",
              "1148  2,3,1,36643.5367,3.2727,3                               NaN\n",
              "1149  2,3,1,35968.0943,3.2424,3                               NaN\n",
              "1150   3,2,1,36643.5367,3.375,3                               NaN\n",
              "1151  3,3,0,38013.2711,3.4375,3                               NaN\n",
              "\n",
              "[1152 rows x 2 columns]"
            ]
          },
          "metadata": {
            "tags": []
          },
          "execution_count": 15
        }
      ]
    },
    {
      "cell_type": "code",
      "metadata": {
        "id": "kDGpoZ7V5PeC",
        "colab_type": "code",
        "colab": {}
      },
      "source": [
        "#output.eval_js('new Audio(\"https://upload.wikimedia.org/wikipedia/commons/0/05/Beep-09.ogg\").play()')"
      ],
      "execution_count": 0,
      "outputs": []
    }
  ]
}