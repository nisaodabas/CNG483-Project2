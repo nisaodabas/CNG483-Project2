{
  "nbformat": 4,
  "nbformat_minor": 0,
  "metadata": {
    "colab": {
      "name": "CNG483-Project2.ipynb",
      "provenance": [],
      "collapsed_sections": [],
      "authorship_tag": "ABX9TyOb48zlkIG1P+Q00nd6jq1F",
      "include_colab_link": true
    },
    "kernelspec": {
      "name": "python3",
      "display_name": "Python 3"
    }
  },
  "cells": [
    {
      "cell_type": "markdown",
      "metadata": {
        "id": "view-in-github",
        "colab_type": "text"
      },
      "source": [
        "<a href=\"https://colab.research.google.com/github/nisaodabas/CNG483-Project2/blob/master/CNG483_Project2.ipynb\" target=\"_parent\"><img src=\"https://colab.research.google.com/assets/colab-badge.svg\" alt=\"Open In Colab\"/></a>"
      ]
    },
    {
      "cell_type": "code",
      "metadata": {
        "id": "WzPhI0ARvc2S",
        "colab_type": "code",
        "colab": {
          "base_uri": "https://localhost:8080/",
          "height": 34
        },
        "outputId": "5c4a61d1-8a8e-4731-a8ae-109d5b00b08a"
      },
      "source": [
        "import os\n",
        "import numpy as np\n",
        "import pandas as pd\n",
        "from tensorflow.keras import Sequential\n",
        "from tensorflow.keras.layers import Dense\n",
        "from keras.wrappers.scikit_learn import KerasClassifier\n",
        "from sklearn.model_selection import cross_val_score\n",
        "from sklearn.model_selection import KFold\n",
        "from google.colab import output\n",
        "from google.colab import drive\n",
        "\n",
        "drive.mount('/content/drive')"
      ],
      "execution_count": 270,
      "outputs": [
        {
          "output_type": "stream",
          "text": [
            "Drive already mounted at /content/drive; to attempt to forcibly remount, call drive.mount(\"/content/drive\", force_remount=True).\n"
          ],
          "name": "stdout"
        }
      ]
    },
    {
      "cell_type": "code",
      "metadata": {
        "id": "DuVsk-f_o2fU",
        "colab_type": "code",
        "colab": {}
      },
      "source": [
        "def createDataSet(path):\n",
        "    df = pd.read_fwf(path)\n",
        "    data = np.array(df)\n",
        "\n",
        "    numAttr = 0\n",
        "    rows = []\n",
        "    for row in data:        \n",
        "        found = row[0].find(\"@ATTRIBUTE\")\n",
        "        if(found != -1):\n",
        "            numAttr += 1\n",
        "        else:\n",
        "            # ignore @ATTRIBUTE rows\n",
        "            rows.append(row[0].split(\",\"))\n",
        "\n",
        "    # delete @DATA row\n",
        "    rows = np.array(rows[1:])\n",
        "    \n",
        "    labels = rows[:, -1].astype('int32')\n",
        "    features = rows[:, :numAttr-1].astype('float32') \n",
        "\n",
        "    return features, labels"
      ],
      "execution_count": 0,
      "outputs": []
    },
    {
      "cell_type": "code",
      "metadata": {
        "id": "nKNYQzc4HVZD",
        "colab_type": "code",
        "colab": {}
      },
      "source": [
        "def model():\n",
        "    # determine the number of input features\n",
        "    #n_features = X_train.shape[1]\n",
        "    # define model\n",
        "    model = Sequential()\n",
        "    model.add(Dense(10, activation='relu', kernel_initializer='he_normal', input_dim=5))\n",
        "    model.add(Dense(8, activation='relu', kernel_initializer='he_normal'))\n",
        "    model.add(Dense(3, activation='softmax'))\n",
        "    # compile the model\n",
        "    #opt = SGD(learning_rate=0.01, momentum=0.9)\n",
        "    #model.compile(optimizer=opt, loss='binary_crossentropy')\n",
        "    model.compile(optimizer='RMSprop', loss='categorical_crossentropy', metrics=['accuracy'])\n",
        "    \n",
        "    return model\n",
        "\n",
        "\n",
        "\n",
        "    '''\n",
        "    # fit the model\n",
        "    model.fit(X_train, y_train, epochs=100, batch_size=32, verbose=0)\n",
        "    # evaluate the model\n",
        "    loss, acc = model.evaluate(X_test, y_test, verbose=0)\n",
        "    print('Test Accuracy: %.3f' % acc)\n",
        "    '''\n",
        "    "
      ],
      "execution_count": 0,
      "outputs": []
    },
    {
      "cell_type": "code",
      "metadata": {
        "id": "gYvDVzZ85X9x",
        "colab_type": "code",
        "colab": {}
      },
      "source": [
        "if __name__ == \"__main__\":\n",
        "    geometic_test_path = \"/content/drive/My Drive/CNG483-Project 2/IrisGeometicFeatures_TestingSet.txt\"\n",
        "    geometic_train_path = \"/content/drive/My Drive/CNG483-Project 2/IrisGeometicFeatures_TrainingSet.txt\"\n",
        "\n",
        "    texture_test_path = \"/content/drive/My Drive/CNG483-Project 2/IrisTextureFeatures_TestingSet.txt\"\n",
        "    texture_train_path = \"/content/drive/My Drive/CNG483-Project 2/IrisTextureFeatures_TrainingSet.txt\"\n",
        "\n",
        "\n",
        "    geo_x_train, geo_y_train = createDataSet(geometic_train_path)\n",
        "    geo_x_test, geo_y_test = createDataSet(geometic_test_path)\n"
      ],
      "execution_count": 0,
      "outputs": []
    },
    {
      "cell_type": "code",
      "metadata": {
        "id": "Hbd6UrHdHPa8",
        "colab_type": "code",
        "colab": {
          "base_uri": "https://localhost:8080/",
          "height": 151
        },
        "outputId": "1e3cfe3f-fc3a-4ed5-e593-dc5e234537e2"
      },
      "source": [
        "    #model(geo_x_train, geo_y_train, geo_x_test, geo_y_test)\n",
        "    for i in range(25,50,5):\n",
        "\n",
        "        estimator = KerasClassifier(build_fn=model, epochs=300, batch_size=32, verbose=0)\n",
        "        kfold = KFold(n_splits=10, shuffle=True, random_state=30)\n",
        "        results = cross_val_score(estimator, geo_x_train, geo_y_train, cv=kfold, scoring='accuracy')\n",
        "        print(\"rand = \", i)\n",
        "        print(\"Baseline: %.2f%% (%.2f%%)\" % (results.mean()*100, results.std()*100))"
      ],
      "execution_count": 0,
      "outputs": [
        {
          "output_type": "stream",
          "text": [
            "rand =  25\n",
            "Baseline: 49.56% (10.59%)\n",
            "rand =  30\n",
            "Baseline: 50.07% (12.57%)\n",
            "rand =  35\n",
            "Baseline: 50.86% (11.48%)\n",
            "rand =  40\n",
            "Baseline: 40.69% (18.94%)\n"
          ],
          "name": "stdout"
        }
      ]
    },
    {
      "cell_type": "code",
      "metadata": {
        "id": "kDGpoZ7V5PeC",
        "colab_type": "code",
        "colab": {}
      },
      "source": [
        "#output.eval_js('new Audio(\"https://upload.wikimedia.org/wikipedia/commons/0/05/Beep-09.ogg\").play()')"
      ],
      "execution_count": 0,
      "outputs": []
    }
  ]
}